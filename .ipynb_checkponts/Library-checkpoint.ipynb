{
 "cells": [
  {
   "cell_type": "code",
   "execution_count": 88,
   "metadata": {},
   "outputs": [],
   "source": [
    "# dictionary -> string(32chars) and jsonObject(16KB)\n",
    "\n",
    "import os\n",
    "import sys\n",
    "import json\n",
    "import datetime\n",
    "\n",
    "class Util:\n",
    "    def parse(d): \n",
    "        dictionary = dict() \n",
    "        # Removes curly braces and splits the pairs into a list \n",
    "        pairs = d.strip('{}').split(', ') \n",
    "        for i in pairs: \n",
    "            pair = i.split(': ') \n",
    "            # Other symbols from the key-value pair should be stripped. \n",
    "            dictionary[pair[0].strip('\\'\\'\\\"\\\"')] = pair[1].strip('\\'\\'\\\"\\\"') \n",
    "        return dictionary\n",
    "\n",
    "    def contains(path, key): \n",
    "        try: \n",
    "            file = open(path, 'rt') \n",
    "            lines = file.read().split('\\n') \n",
    "            for l in lines: \n",
    "                if l != '': \n",
    "                    dictionary = parse(l) \n",
    "                    #print(dictionary.keys) \n",
    "                    if list(dictionary.keys())[0] == key:\n",
    "                        return True\n",
    "            file.close() \n",
    "        except: \n",
    "            print(\"Something unexpected occurred!\")\n",
    "\n",
    "        return False\n",
    "        \n",
    "    def secTillNow():\n",
    "        now = datetime.datetime.now()\n",
    "        midnight = datetime.datetime.combine(now.date(), datetime.time())\n",
    "        seconds = (now - midnight).seconds\n",
    "        return seconds\n",
    "\n",
    "class Library:\n",
    "    \n",
    "    '''Describe this class'''\n",
    "    \n",
    "    def __init__(self, path = None):\n",
    "        if path == None:\n",
    "            self.path = os.getcwd()\n",
    "        else:\n",
    "            self.path = path\n",
    "        \n",
    "        self.__fileName = \"library.txt\"  #library file\n",
    "        \n",
    "        try:\n",
    "            self.path = os.path.join(self.path, self.__fileName)\n",
    "            with open(self.path, \"a+\") as file:\n",
    "                file.close()\n",
    "                \n",
    "        except FileNotFoundError as fnf_error:\n",
    "            print(\"Error : \", fnf_error)\n",
    "            \n",
    "        except:\n",
    "            print('Unable to initialize library')\n",
    "            \n",
    "            \n",
    "    def create(self, key, value, timeToLive = 86400):\n",
    "        \n",
    "        if Util.contains(self.path, key) == False:            \n",
    "            \n",
    "            fileStats = os.stat(self.path)\n",
    "            fileSize = (fileStats.st_size)/(1024*1024)\n",
    "            if fileSize >= 1024:\n",
    "                print(\"file size is too large\")\n",
    "                return \"Operation Unsuccessfull\"\n",
    "            #else:\n",
    "                #print(fileSize)\n",
    "            dict = {} \n",
    "            \n",
    "            if type(key) == type(\"\") and len(key) <= 32:\n",
    "                if key.isalpha():\n",
    "                    try: \n",
    "                        value = json.loads(value) \n",
    "                        # print (\"Is valid json? true\") \n",
    "                    except ValueError as e: \n",
    "                        print (\"It is not valid json object\")\n",
    "                        return\n",
    "                    if(sys.getsizeof(value) <= (1024*16)):\n",
    "                        dict[key] = value\n",
    "                        tSec = Util.secTillNow()\n",
    "                        if timeToLive == 86400:\n",
    "                            dict['timeToLive'] = timeToLive-1\n",
    "                        else:\n",
    "                            dict['timeToLive'] = (tSec + timeToLive)\n",
    "                        try:\n",
    "                            with open(self.path, \"a+\") as file:\n",
    "                                file.write(str(dict)+\"\\n\")\n",
    "                                file.close()\n",
    "                                print(\"The value was appended in library\")\n",
    "                        except:\n",
    "                            print(\"Unable to perform create operation\")\n",
    "                    else:\n",
    "                        print(\"json object size exceeded\")\n",
    "                else:\n",
    "                    print(\"key should be alpha numeric\")\n",
    "\n",
    "            else:\n",
    "                print(\"Key size exceeded\")\n",
    "            \n",
    "        else:\n",
    "            print(\"Key is already present\")\n",
    "            \n",
    "    \n",
    "    def read(self, key):\n",
    "        try: \n",
    "            file = open(self.path, 'rt') \n",
    "            lines = file.read().split('\\n') \n",
    "            for l in lines: \n",
    "                if l != '': \n",
    "                    dictionary = eval(l)\n",
    "                    #print(dictionary.keys) \n",
    "                    if list(dictionary.keys())[0] == key:\n",
    "                        if dictionary['timeToLive'] >= Util.secTillNow():\n",
    "                            return dictionary[key]\n",
    "                        else:\n",
    "                            return \"json object is not accessible\"\n",
    "            file.close() \n",
    "        except: \n",
    "            print(\"Something unexpected occurred!\")\n",
    "\n",
    "        return \"Key Not Found\"\n",
    "    \n",
    "    def delete(self, key):\n",
    "        try:\n",
    "            flag = False\n",
    "            readFile = open(self.path, \"r\")\n",
    "            lines = readFile.readlines()\n",
    "            readFile.close()\n",
    "            #print(lines)\n",
    "            \n",
    "            writeFile = open(self.path, \"w\")\n",
    "            for line in lines:\n",
    "                dictionary = eval(line.strip(\"\\n\"))\n",
    "                if list(dictionary.keys())[0] == key:\n",
    "                    if dictionary['timeToLive'] < Util.secTillNow():\n",
    "                        writeFile.write(line)\n",
    "                    else:\n",
    "                        flag = True\n",
    "                        deletedVal = dictionary\n",
    "                else:\n",
    "                    writeFile.write(line)\n",
    "            writeFile.close()\n",
    "            \n",
    "            if flag:\n",
    "                print(\"Value was deleted\")\n",
    "                return deletedVal\n",
    "            else:\n",
    "                print(\"Either the key is not present or key is unaccessible\")\n",
    "                \n",
    "        except:\n",
    "            print(\"Something unexpected occured!\")"
   ]
  },
  {
   "cell_type": "code",
   "execution_count": null,
   "metadata": {},
   "outputs": [],
   "source": []
  },
  {
   "cell_type": "code",
   "execution_count": null,
   "metadata": {},
   "outputs": [],
   "source": []
  },
  {
   "cell_type": "code",
   "execution_count": null,
   "metadata": {},
   "outputs": [],
   "source": []
  },
  {
   "cell_type": "code",
   "execution_count": 89,
   "metadata": {},
   "outputs": [
    {
     "name": "stdout",
     "output_type": "stream",
     "text": [
      "Value was deleted\n",
      "-------------------\n",
      "The value was appended in library\n"
     ]
    }
   ],
   "source": [
    "class Test:\n",
    "    '''Testing Library class'''\n",
    "    \n",
    "    l1 = Library()\n",
    "    #l2 = Library(\"D:\")\n",
    "    #l3 = Library(\"xyz\")\n",
    "    \n",
    "    \n",
    "    #l1.create(\"abc\", '{\"name\": \"Bob\", \"languages\": \"English\"}', 800)\n",
    "    #l1.create(\"ab\", '{\"name\": \"Bob\", \"languages\": \"English\"}', 800)\n",
    "    #l1.create(\"abc1\", '{\"name\": \"Bob\", \"languages\": \"English\"}', 800)\n",
    "    #l1.create(\"a\", '{\"name\": \"Bob \"languages\": \"English\"}', 800)\n",
    "    #l1.create(\"abcd\", '{\"name\": \"Job\", \"languages\": \"English\"}', 800)\n",
    "    #l1.create(\"abcdf\", '{\"name\": \"Job\", \"languages\": \"English\"}')\n",
    "    #print(l1.read(\"abcd\"))\n",
    "    #print(l1.read(\"abcde\"))\n",
    "    #print(Util.secTillNow())\n",
    "    \n",
    "    l1.delete(\"abcf\")\n",
    "    l1.create(\"abcf\", '{\"name\": \"cob\", \"languages\": \"English\"}', 800)"
   ]
  },
  {
   "cell_type": "code",
   "execution_count": 75,
   "metadata": {},
   "outputs": [
    {
     "name": "stdout",
     "output_type": "stream",
     "text": [
      "70460\n"
     ]
    }
   ],
   "source": [
    "print(Util.secTillNow())"
   ]
  },
  {
   "cell_type": "code",
   "execution_count": 34,
   "metadata": {},
   "outputs": [
    {
     "data": {
      "text/plain": [
       "str"
      ]
     },
     "execution_count": 34,
     "metadata": {},
     "output_type": "execute_result"
    }
   ],
   "source": []
  },
  {
   "cell_type": "code",
   "execution_count": 35,
   "metadata": {},
   "outputs": [
    {
     "data": {
      "text/plain": [
       "2"
      ]
     },
     "execution_count": 35,
     "metadata": {},
     "output_type": "execute_result"
    }
   ],
   "source": [
    "len(d)"
   ]
  },
  {
   "cell_type": "code",
   "execution_count": 39,
   "metadata": {},
   "outputs": [],
   "source": [
    "import datetime\n",
    "def secTillNow():\n",
    "        now = datetime.datetime.now()\n",
    "        midnight = datetime.datetime.combine(now.date(), datetime.time())\n",
    "        seconds = (now - midnight).seconds\n",
    "        return seconds"
   ]
  },
  {
   "cell_type": "code",
   "execution_count": 40,
   "metadata": {},
   "outputs": [
    {
     "name": "stdout",
     "output_type": "stream",
     "text": [
      "55857\n"
     ]
    }
   ],
   "source": [
    "print(secTillNow())"
   ]
  },
  {
   "cell_type": "code",
   "execution_count": 42,
   "metadata": {},
   "outputs": [
    {
     "data": {
      "text/plain": [
       "55857"
      ]
     },
     "execution_count": 42,
     "metadata": {},
     "output_type": "execute_result"
    }
   ],
   "source": [
    "(86400 + 55857)%86400\n"
   ]
  },
  {
   "cell_type": "code",
   "execution_count": 1,
   "metadata": {},
   "outputs": [],
   "source": [
    "def parse(d): \n",
    "    dictionary = dict() \n",
    "    # Removes curly braces and splits the pairs into a list \n",
    "    pairs = d.strip('{}').split(', ') \n",
    "    for i in pairs: \n",
    "        pair = i.split(': ') \n",
    "        # Other symbols from the key-value pair should be stripped. \n",
    "        dictionary[pair[0].strip('\\'\\'\\\"\\\"')] = pair[1].strip('\\'\\'\\\"\\\"') \n",
    "    return dictionary\n",
    "\n",
    "def contains(key): \n",
    "    try: \n",
    "        file = open(\"library.txt\", 'rt') \n",
    "        lines = file.read().split('\\n') \n",
    "        for l in lines: \n",
    "            if l != '': \n",
    "                dictionary = parse(l) \n",
    "                #print(dictionary.keys) \n",
    "                if list(dictionary.keys())[0] == key:\n",
    "                    return True\n",
    "        file.close() \n",
    "    except: \n",
    "        print(\"Something unexpected occurred!\")\n",
    "\n",
    "    return False"
   ]
  },
  {
   "cell_type": "code",
   "execution_count": 2,
   "metadata": {},
   "outputs": [
    {
     "data": {
      "text/plain": [
       "True"
      ]
     },
     "execution_count": 2,
     "metadata": {},
     "output_type": "execute_result"
    }
   ],
   "source": [
    "contains(\"abc\")"
   ]
  },
  {
   "cell_type": "code",
   "execution_count": 88,
   "metadata": {},
   "outputs": [
    {
     "name": "stdout",
     "output_type": "stream",
     "text": [
      "{'abcd': \"{'name\", 'languages': \"English'}\", 'timeToLive': '61255'}\n",
      "{'abc': \"{'name\", 'languages': \"English'}\", 'timeToLive': '61255'}\n",
      "{'ab': \"{'name\", 'languages': \"English'}\", 'timeToLive': '61255'}\n"
     ]
    }
   ],
   "source": [
    "def parse(d): \n",
    "\tdictionary = dict() \n",
    "\t# Removes curly braces and splits the pairs into a list \n",
    "\tpairs = d.strip('{}').split(', ') \n",
    "\tfor i in pairs: \n",
    "\t\tpair = i.split(': ') \n",
    "\t\t# Other symbols from the key-value pair should be stripped. \n",
    "\t\tdictionary[pair[0].strip('\\'\\'\\\"\\\"')] = pair[1].strip('\\'\\'\\\"\\\"') \n",
    "\treturn dictionary \n",
    "\n",
    "\n",
    "try: \n",
    "\tgeeky_file = open('library.txt', 'rt') \n",
    "\tlines = geeky_file.read().split('\\n') \n",
    "\tfor l in lines: \n",
    "\t\tif l != '': \n",
    "\t\t\tdictionary = parse(l) \n",
    "\t\t\tprint(dictionary) \n",
    "\tgeeky_file.close() \n",
    "except: \n",
    "\tprint(\"Something unexpected occurred!\")\n"
   ]
  },
  {
   "cell_type": "code",
   "execution_count": 68,
   "metadata": {},
   "outputs": [
    {
     "name": "stdout",
     "output_type": "stream",
     "text": [
      "[\"{'abcd': {'name': 'Bob', 'languages': 'English'}, 'timeToLive': 67380}\\n\", \"{'abc': {'name': 'Bob', 'languages': 'English'}, 'timeToLive': 67380}\\n\", \"{'ab': {'name': 'Bob', 'languages': 'English'}, 'timeToLive': 67380}\\n\", \"{'abcde': {'name': 'Job', 'languages': 'English'}, 'timeToLive': 69873}\\n\", \"{'abcdf': {'name': 'Job', 'languages': 'English'}, 'timeToLive': 86399}\\n\"]\n"
     ]
    }
   ],
   "source": [
    "readFile = open(\"library.txt\", \"r\")\n",
    "lines = readFile.readlines()\n",
    "readFile.close()\n",
    "print(lines)"
   ]
  },
  {
   "cell_type": "code",
   "execution_count": null,
   "metadata": {},
   "outputs": [],
   "source": []
  }
 ],
 "metadata": {
  "kernelspec": {
   "display_name": "Python 3",
   "language": "python",
   "name": "python3"
  },
  "language_info": {
   "codemirror_mode": {
    "name": "ipython",
    "version": 3
   },
   "file_extension": ".py",
   "mimetype": "text/x-python",
   "name": "python",
   "nbconvert_exporter": "python",
   "pygments_lexer": "ipython3",
   "version": "3.7.4"
  }
 },
 "nbformat": 4,
 "nbformat_minor": 2
}
